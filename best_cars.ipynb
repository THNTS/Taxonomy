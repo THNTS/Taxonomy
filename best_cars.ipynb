{
 "cells": [
  {
   "cell_type": "code",
   "execution_count": 1,
   "metadata": {
    "collapsed": true,
    "pycharm": {
     "is_executing": false
    }
   },
   "outputs": [],
   "source": [
    "import string\n",
    "from east.asts import base\n",
    "from east import utils\n",
    "import glob\n",
    "\n",
    "import errno\n",
    "import pandas as pd\n",
    "import numpy as np\n",
    "from numpy import genfromtxt\n"
   ]
  },
  {
   "cell_type": "code",
   "execution_count": 36,
   "outputs": [],
   "source": [
    "df = pd.read_excel('/Users/daniilbabin/DS/Taxonomy/cluster_relevancy.xlsx')\n",
    "cap = 1750\n",
    "df[\"car_model_split\"] = df.car_model.str.split(\"/\").str[-1].str[1:-1].str.split(\",\").str[:3].str.join(\", \")\n",
    "df[\"manufacturer\"]=df.car_model_split.str.split(',').str[0]\n",
    "df[\"model\"]=df.car_model_split.str.split(',').str[1]\n",
    "df[\"third_param\"]=df.car_model_split.str.split(',').str[-1]\n"
   ],
   "metadata": {
    "collapsed": false,
    "pycharm": {
     "name": "#%%\n",
     "is_executing": false
    }
   }
  },
  {
   "cell_type": "code",
   "execution_count": 42,
   "outputs": [],
   "source": [
    "df[\"model\"] = df[\"model\"].str[3:-1]\n",
    "df[\"manufacturer\"] = df[\"manufacturer\"].str[1:-1]\n",
    "df[\"third_param\"] = df[\"third_param\"].str[3:-1]"
   ],
   "metadata": {
    "collapsed": false,
    "pycharm": {
     "name": "#%%\n",
     "is_executing": false
    }
   }
  },
  {
   "cell_type": "code",
   "execution_count": 90,
   "outputs": [],
   "source": [
    "df_wo_parts = df[df.third_param!=\"\"]\n",
    "df_wo_parts = df_wo_parts.drop([\"car_model\"], axis=1)"
   ],
   "metadata": {
    "collapsed": false,
    "pycharm": {
     "name": "#%%\n",
     "is_executing": false
    }
   }
  },
  {
   "cell_type": "code",
   "execution_count": 91,
   "outputs": [],
   "source": [
    "df_wo_parts[\"car_model_split\"]=df_wo_parts[\"car_model_split\"].str.split(\", \").str[0:-1].str.join(' ')"
   ],
   "metadata": {
    "collapsed": false,
    "pycharm": {
     "name": "#%%\n",
     "is_executing": false
    }
   }
  },
  {
   "cell_type": "code",
   "execution_count": 92,
   "outputs": [],
   "source": [
    "calc = df_wo_parts.groupby('car_model_split').mean()\n"
   ],
   "metadata": {
    "collapsed": false,
    "pycharm": {
     "name": "#%%\n",
     "is_executing": false
    }
   }
  },
  {
   "cell_type": "code",
   "execution_count": 93,
   "outputs": [
    {
     "name": "stdout",
     "text": [
      "                               first_cluster\n",
      "car_model_split                             \n",
      "'toyota'  'allion'                  1.090678\n",
      "'oldsmobile'  'alero'               1.036740\n",
      "'ferrari'  'f430'                   1.034884\n",
      "'honda'  'inspire'                  1.008391\n",
      "'moscvich'  'yuri_dolgorukiy'       1.005292\n",
      "...                                      ...\n",
      "'mazda'  '121'                      0.415552\n",
      "'toyota'  'premio'                  0.401288\n",
      "'gaz'  '69'                         0.391838\n",
      "'jac'  'refine'                     0.389023\n",
      "'opel'  'campo'                     0.384798\n",
      "\n",
      "[1225 rows x 1 columns]\n"
     ],
     "output_type": "stream"
    }
   ],
   "source": [
    "df1 = calc.sort_values(['first_cluster'], ascending=0).head(cap)\n",
    "df1 = df1[['first_cluster']]\n",
    "print(df1)"
   ],
   "metadata": {
    "collapsed": false,
    "pycharm": {
     "name": "#%%\n",
     "is_executing": false
    }
   }
  },
  {
   "cell_type": "code",
   "execution_count": 94,
   "outputs": [
    {
     "name": "stdout",
     "text": [
      "                               second_cluster\n",
      "car_model_split                              \n",
      "'daewoo'  'lanos'                    1.140289\n",
      "'toyota'  'allion'                   1.069392\n",
      "'honda'  'mobilio_spike'             1.034032\n",
      "'ford'  'tempo'                      1.004309\n",
      "'moscvich'  'yuri_dolgorukiy'        1.004257\n",
      "...                                       ...\n",
      "'opel'  'campo'                      0.364962\n",
      "'jac'  'refine'                      0.354779\n",
      "'toyota'  'premio'                   0.346550\n",
      "'gaz'  '69'                          0.342980\n",
      "'daihatsu'  'feroza'                 0.335213\n",
      "\n",
      "[1225 rows x 1 columns]\n"
     ],
     "output_type": "stream"
    }
   ],
   "source": [
    "df2 = calc.sort_values(['second_cluster'], ascending=0).head(cap)\n",
    "df2 = df2[['second_cluster']]\n",
    "print(df2)"
   ],
   "metadata": {
    "collapsed": false,
    "pycharm": {
     "name": "#%%\n",
     "is_executing": false
    }
   }
  },
  {
   "cell_type": "code",
   "execution_count": 95,
   "outputs": [
    {
     "name": "stdout",
     "text": [
      "                               third_cluster\n",
      "car_model_split                             \n",
      "'moscvich'  'yuri_dolgorukiy'       0.784034\n",
      "'toyota'  'allion'                  0.757887\n",
      "'buick'  'roadmaster'               0.756656\n",
      "'eagle'  'vision'                   0.725187\n",
      "'oldsmobile'  'alero'               0.716834\n",
      "...                                      ...\n",
      "'toyota'  'premio'                  0.206382\n",
      "'nissan'  'urvan'                   0.205782\n",
      "'shuanghuan'  'sceo'                0.193306\n",
      "'gaz'  '69'                         0.189414\n",
      "                                    0.132864\n",
      "\n",
      "[1225 rows x 1 columns]\n"
     ],
     "output_type": "stream"
    }
   ],
   "source": [
    "df3 = calc.sort_values(['third_cluster'], ascending=0).head(cap)\n",
    "df3 = df3[['third_cluster']]\n",
    "print(df3)"
   ],
   "metadata": {
    "collapsed": false,
    "pycharm": {
     "name": "#%%\n",
     "is_executing": false
    }
   }
  },
  {
   "cell_type": "code",
   "execution_count": 96,
   "outputs": [
    {
     "name": "stdout",
     "text": [
      "                               fourth_cluster\n",
      "car_model_split                              \n",
      "'toyota'  'allion'                   0.916927\n",
      "'daewoo'  'lanos'                    0.858946\n",
      "'moscvich'  'yuri_dolgorukiy'        0.855941\n",
      "'alfa_romeo'  'gtv'                  0.855115\n",
      "'toyota'  'passo'                    0.848121\n",
      "...                                       ...\n",
      "'gaz'  '69'                          0.249633\n",
      "'zaz'  '966'                         0.243016\n",
      "'nissan'  'urvan'                    0.233334\n",
      "'opel'  'campo'                      0.224200\n",
      "'daihatsu'  'feroza'                 0.209929\n",
      "\n",
      "[1225 rows x 1 columns]\n"
     ],
     "output_type": "stream"
    }
   ],
   "source": [
    "df4 = calc.sort_values(['fourth_cluster'], ascending=0).head(cap)\n",
    "df4 = df4[['fourth_cluster']]\n",
    "print(df4)"
   ],
   "metadata": {
    "collapsed": false,
    "pycharm": {
     "name": "#%%\n",
     "is_executing": false
    }
   }
  },
  {
   "cell_type": "code",
   "execution_count": 97,
   "outputs": [
    {
     "name": "stdout",
     "text": [
      "                          fifth_cluster\n",
      "car_model_split                        \n",
      "'toyota'  'allion'             0.751031\n",
      "'daewoo'  'lanos'              0.741280\n",
      "'toyota'  'passo'              0.720804\n",
      "'honda'  'mobilio_spike'       0.720702\n",
      "'dodge'  'dakota'              0.687551\n",
      "...                                 ...\n",
      "'gaz'  '69'                    0.213644\n",
      "'hawtai'  'laville'            0.209074\n",
      "'nissan'  'urvan'              0.199987\n",
      "'opel'  'campo'                0.197256\n",
      "'daihatsu'  'feroza'           0.171363\n",
      "\n",
      "[1225 rows x 1 columns]\n"
     ],
     "output_type": "stream"
    }
   ],
   "source": [
    "df5 = calc.sort_values(['fifth_cluster'], ascending=0).head(cap)\n",
    "df5 = df5[['fifth_cluster']]\n",
    "print(df5)"
   ],
   "metadata": {
    "collapsed": false,
    "pycharm": {
     "name": "#%%\n",
     "is_executing": false
    }
   }
  },
  {
   "cell_type": "code",
   "execution_count": 99,
   "outputs": [],
   "source": [
    "first = df1.head(10)\n",
    "second = df2.head(10)\n",
    "third = df3.head(10)\n",
    "fourth = df4.head(10)\n",
    "fifth = df5.head(10)"
   ],
   "metadata": {
    "collapsed": false,
    "pycharm": {
     "name": "#%%\n",
     "is_executing": false
    }
   }
  },
  {
   "cell_type": "code",
   "execution_count": 10,
   "outputs": [
    {
     "traceback": [
      "\u001b[0;31m---------------------------------------------------------------------------\u001b[0m",
      "\u001b[0;31mNameError\u001b[0m                                 Traceback (most recent call last)",
      "\u001b[0;32m<ipython-input-10-f61f93d0ee1c>\u001b[0m in \u001b[0;36m<module>\u001b[0;34m\u001b[0m\n\u001b[0;32m----> 1\u001b[0;31m \u001b[0mp1\u001b[0m \u001b[0;34m=\u001b[0m \u001b[0mdf1_best\u001b[0m\u001b[0;34m.\u001b[0m\u001b[0mapply\u001b[0m\u001b[0;34m(\u001b[0m\u001b[0;32mlambda\u001b[0m \u001b[0mx\u001b[0m\u001b[0;34m:\u001b[0m \u001b[0mx\u001b[0m\u001b[0;34m/\u001b[0m\u001b[0;36m1750\u001b[0m\u001b[0;34m)\u001b[0m\u001b[0;34m\u001b[0m\u001b[0;34m\u001b[0m\u001b[0m\n\u001b[0m\u001b[1;32m      2\u001b[0m \u001b[0mp2\u001b[0m \u001b[0;34m=\u001b[0m \u001b[0mdf2_best\u001b[0m\u001b[0;34m.\u001b[0m\u001b[0mapply\u001b[0m\u001b[0;34m(\u001b[0m\u001b[0;32mlambda\u001b[0m \u001b[0mx\u001b[0m\u001b[0;34m:\u001b[0m \u001b[0mx\u001b[0m\u001b[0;34m/\u001b[0m\u001b[0;36m1750\u001b[0m\u001b[0;34m)\u001b[0m\u001b[0;34m\u001b[0m\u001b[0;34m\u001b[0m\u001b[0m\n\u001b[1;32m      3\u001b[0m \u001b[0mp3\u001b[0m \u001b[0;34m=\u001b[0m \u001b[0mdf3_best\u001b[0m\u001b[0;34m.\u001b[0m\u001b[0mapply\u001b[0m\u001b[0;34m(\u001b[0m\u001b[0;32mlambda\u001b[0m \u001b[0mx\u001b[0m\u001b[0;34m:\u001b[0m \u001b[0mx\u001b[0m\u001b[0;34m/\u001b[0m\u001b[0;36m1750\u001b[0m\u001b[0;34m)\u001b[0m\u001b[0;34m\u001b[0m\u001b[0;34m\u001b[0m\u001b[0m\n\u001b[1;32m      4\u001b[0m \u001b[0mp4\u001b[0m \u001b[0;34m=\u001b[0m \u001b[0mdf4_best\u001b[0m\u001b[0;34m.\u001b[0m\u001b[0mapply\u001b[0m\u001b[0;34m(\u001b[0m\u001b[0;32mlambda\u001b[0m \u001b[0mx\u001b[0m\u001b[0;34m:\u001b[0m \u001b[0mx\u001b[0m\u001b[0;34m/\u001b[0m\u001b[0;36m1750\u001b[0m\u001b[0;34m)\u001b[0m\u001b[0;34m\u001b[0m\u001b[0;34m\u001b[0m\u001b[0m\n\u001b[1;32m      5\u001b[0m \u001b[0mp5\u001b[0m \u001b[0;34m=\u001b[0m \u001b[0mdf5_best\u001b[0m\u001b[0;34m.\u001b[0m\u001b[0mapply\u001b[0m\u001b[0;34m(\u001b[0m\u001b[0;32mlambda\u001b[0m \u001b[0mx\u001b[0m\u001b[0;34m:\u001b[0m \u001b[0mx\u001b[0m\u001b[0;34m/\u001b[0m\u001b[0;36m1750\u001b[0m\u001b[0;34m)\u001b[0m\u001b[0;34m\u001b[0m\u001b[0;34m\u001b[0m\u001b[0m\n",
      "\u001b[0;31mNameError\u001b[0m: name 'df1_best' is not defined"
     ],
     "ename": "NameError",
     "evalue": "name 'df1_best' is not defined",
     "output_type": "error"
    }
   ],
   "source": [
    "p1 = df1_best.apply(lambda x: x/1750)\n",
    "p2 = df2_best.apply(lambda x: x/1750)\n",
    "p3 = df3_best.apply(lambda x: x/1750)\n",
    "p4 = df4_best.apply(lambda x: x/1750)\n",
    "p5 = df5_best.apply(lambda x: x/1750)"
   ],
   "metadata": {
    "collapsed": false,
    "pycharm": {
     "name": "#%%\n",
     "is_executing": false
    }
   }
  },
  {
   "cell_type": "code",
   "execution_count": null,
   "outputs": [],
   "source": [
    "p = df.groupby('car_model_split').car_model.nunique()\n",
    "p = p.apply(lambda x: x/35785)"
   ],
   "metadata": {
    "collapsed": false,
    "pycharm": {
     "name": "#%%\n",
     "is_executing": false
    }
   }
  },
  {
   "cell_type": "code",
   "execution_count": null,
   "outputs": [],
   "source": [
    "q1 = p1.subtract(p).divide(p).sort_values(ascending=False)\n",
    "q2 = p2.subtract(p).divide(p).sort_values(ascending=False)\n",
    "q3 = p3.subtract(p).divide(p).sort_values(ascending=False)\n",
    "q4 = p4.subtract(p).divide(p).sort_values(ascending=False)\n",
    "q5 = p5.subtract(p).divide(p).sort_values(ascending=False)"
   ],
   "metadata": {
    "collapsed": false,
    "pycharm": {
     "name": "#%%\n",
     "is_executing": false
    }
   }
  },
  {
   "cell_type": "code",
   "execution_count": null,
   "outputs": [],
   "source": [
    "first = q1.where(q1<1).sort_values(ascending=False)\n",
    "second = q2.where(q2<1).sort_values(ascending=False)\n",
    "third = q3.where(q3<1).sort_values(ascending=False)\n",
    "fourth = q4.where(q4<1).sort_values(ascending=False)\n",
    "fifth = q5.where(q5<1).sort_values(ascending=False)"
   ],
   "metadata": {
    "collapsed": false,
    "pycharm": {
     "name": "#%%\n",
     "is_executing": false
    }
   }
  },
  {
   "cell_type": "code",
   "execution_count": 100,
   "outputs": [],
   "source": [
    "first.to_csv('//Users/daniilbabin/DS/Taxonomy/top_cars/1_1.csv')\n",
    "second.to_csv('//Users/daniilbabin/DS/Taxonomy/top_cars/2_1.csv')\n",
    "third.to_csv('//Users/daniilbabin/DS/Taxonomy/top_cars/3_1.csv')\n",
    "fourth.to_csv('//Users/daniilbabin/DS/Taxonomy/top_cars/4_1.csv')\n",
    "fifth.to_csv('//Users/daniilbabin/DS/Taxonomy/top_cars/5_1.csv')\n"
   ],
   "metadata": {
    "collapsed": false,
    "pycharm": {
     "name": "#%%\n",
     "is_executing": false
    }
   }
  }
 ],
 "metadata": {
  "kernelspec": {
   "display_name": "Python 3",
   "language": "python",
   "name": "python3"
  },
  "language_info": {
   "codemirror_mode": {
    "name": "ipython",
    "version": 2
   },
   "file_extension": ".py",
   "mimetype": "text/x-python",
   "name": "python",
   "nbconvert_exporter": "python",
   "pygments_lexer": "ipython2",
   "version": "2.7.6"
  },
  "pycharm": {
   "stem_cell": {
    "cell_type": "raw",
    "source": [],
    "metadata": {
     "collapsed": false
    }
   }
  }
 },
 "nbformat": 4,
 "nbformat_minor": 0
}